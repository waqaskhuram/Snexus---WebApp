{
  "nbformat": 4,
  "nbformat_minor": 0,
  "metadata": {
    "colab": {
      "name": "sentimetalAnalysis.py",
      "provenance": [],
      "collapsed_sections": [],
      "authorship_tag": "ABX9TyNnvcdzg1/ff/VHzkyq2QvC",
      "include_colab_link": true
    },
    "kernelspec": {
      "name": "python3",
      "display_name": "Python 3"
    },
    "language_info": {
      "name": "python"
    }
  },
  "cells": [
    {
      "cell_type": "markdown",
      "metadata": {
        "id": "view-in-github",
        "colab_type": "text"
      },
      "source": [
        "<a href=\"https://colab.research.google.com/github/waqaskhuram/snexuswebapp/blob/main/sentimetalAnalysis_py.ipynb\" target=\"_parent\"><img src=\"https://colab.research.google.com/assets/colab-badge.svg\" alt=\"Open In Colab\"/></a>"
      ]
    },
    {
      "cell_type": "code",
      "execution_count": null,
      "metadata": {
        "id": "NFlRz49yLVIr"
      },
      "outputs": [],
      "source": [
        "MSCS"
      ]
    },
    {
      "cell_type": "code",
      "source": [
        "import pandas as pd\n",
        "import re\n",
        "import plotly.express as px\n",
        "import nltk\n",
        "import spacy\n",
        "import numpy as np\n",
        "\n",
        "nlp = spacy.load('en_core_web_sm')\n",
        "df = pd.read_csv(r'sentimental.csv')\n",
        "del df['id']\n",
        "df.head(5)\n",
        "\n",
        "df.shape\n",
        "\n",
        "fig = px.pie(df, names=df.label, hole=0.7, title='Tweets Classification',\n",
        "             height=250, color_discrete_sequence=px.colors.qualitative.T10)\n",
        "fig.update_layout(margin=dict(t=100, b=40, l=60, r=40), \n",
        "                  plot_bgcolor='#2d3035', paper_bgcolor='#2d3035',\n",
        "                  title_font=dict(size=25, color='#a523ab', family=\"Lato, sans-serif\"),\n",
        "                  font=dict(color='#8a7cf3'),\n",
        "                  )\n",
        "\n",
        "def remove_pattern(input_txt):\n",
        "    r = re.findall(r\"@(w+)\", input_txt)\n",
        "    for i in r:\n",
        "        input_txt = re.sub(i, '', input_txt)      \n",
        "    return input_txt\n",
        "df['@_remove'] = np.vectorize(remove_pattern)(df['tweet'])\n",
        "df['@_remove'][:3]\n",
        "\n",
        "hashtags = []\n",
        "def hashtag_extract(x):\n",
        "    # Loop over the words in the tweet\n",
        "    for i in x:\n",
        "        ht = re.findall(r\"#(w+)\", i)\n",
        "        hashtags.append(ht)\n",
        "    return hashtags\n",
        "\n",
        "# extracting hashtags from neg/pos tweets\n",
        "dff_0 = hashtag_extract(df['tweet'][df['label'] == 0])\n",
        "dff_1 = hashtag_extract(df['tweet'][df['label'] == 1])\n",
        "dff_all = hashtag_extract(df['tweet'][df['label']])\n",
        "# unnesting list\n",
        "dff_0 = sum(dff_0,[])\n",
        "dff_1 = sum(dff_1,[])\n",
        "dff_all = sum(dff_all,[])\n",
        "data_0 = nltk.FreqDist(dff_0)\n",
        "data_0 = pd.DataFrame({'Hashtag': list(data_0.keys()),\n",
        "                  'Count': list(data_0.values())}).sort_values(by='Count', ascending=False)\n",
        "data_0[:5]\n",
        "\n",
        "fig = px.bar(data_0[:30], x='Hashtag', y='Count', height=250,\n",
        "             title='Top 30 hashtags',\n",
        "             color_discrete_sequence=px.colors.qualitative.T10)\n",
        "fig.update_yaxes(showgrid=False),\n",
        "fig.update_xaxes(categoryorder='total descending')\n",
        "fig.update_traces(hovertemplate=None)\n",
        "fig.update_layout(margin=dict(t=100, b=0, l=60, r=40), \n",
        "                  hovermode=\"x unified\",\n",
        "                  xaxis_tickangle=300,\n",
        "                  xaxis_title=' ', yaxis_title=\" \",\n",
        "                  plot_bgcolor='#2d3035', paper_bgcolor='#2d3035',\n",
        "                  title_font=dict(size=25, color='#a5a7ab', family=\"Lato, sans-serif\"),\n",
        "                  font=dict(color='#8a8d93')\n",
        "                  )\n",
        "\n",
        "sentences = nlp(str(df['tweet']))\n",
        "\n",
        "for token in sentences:\n",
        "    if token.like_num:\n",
        "        text_num = token.text\n",
        "print(text_num)\n",
        "\n",
        "# find links\n",
        "for token in sentences:\n",
        "    if token.like_url:\n",
        "        text_links = token.text\n",
        "        print(text_links)\n"
      ],
      "metadata": {
        "colab": {
          "base_uri": "https://localhost:8080/"
        },
        "id": "Rv4ZNvloLbie",
        "outputId": "7cbd7294-ad7e-43a7-c2c0-3d754f6aaef3"
      },
      "execution_count": 37,
      "outputs": [
        {
          "output_type": "stream",
          "name": "stdout",
          "text": [
            "7920\n",
            "https://goo.gl/h1\n"
          ]
        }
      ]
    }
  ]
}